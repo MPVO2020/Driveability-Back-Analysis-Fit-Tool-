{
 "cells": [
  {
   "cell_type": "markdown",
   "metadata": {},
   "source": [
    "# Root Mean Square Error Calculator for Different Driveability Back Analysis Cases"
   ]
  },
  {
   "cell_type": "code",
   "execution_count": null,
   "metadata": {},
   "outputs": [],
   "source": [
    "# Importing required tools\n",
    "import pandas as pd \n",
    "import numpy as np\n",
    "import xlrd\n",
    "import os"
   ]
  },
  {
   "cell_type": "code",
   "execution_count": null,
   "metadata": {},
   "outputs": [],
   "source": [
    "# Importing local created functions from large_runfunc.py\n",
    "from large_runfunc import runfunc_ID, runfunc_BA, runfunc_BE"
   ]
  },
  {
   "cell_type": "code",
   "execution_count": null,
   "metadata": {},
   "outputs": [],
   "source": [
    "# Importing local created functions from eval_R_MSE.py\n",
    "from eval_R_MSE import eval_error_BA, eval_error_BE"
   ]
  },
  {
   "cell_type": "markdown",
   "metadata": {},
   "source": [
    "### State how many cases have been processed"
   ]
  },
  {
   "cell_type": "code",
   "execution_count": null,
   "metadata": {},
   "outputs": [],
   "source": [
    "#How many cases?\n",
    "n = input(\"How many cases have been processed?:\")"
   ]
  },
  {
   "cell_type": "code",
   "execution_count": null,
   "metadata": {},
   "outputs": [],
   "source": [
    "#Creating the case folders\n",
    "Ix = ['Case' + str(num) for num in range(0,(int(n)+1))]\n",
    "\n",
    "for f in Ix:\n",
    "    if f==0:\n",
    "        continue\n",
    "    else:\n",
    "        newpath = os.getcwd() + '\\\\' + f\n",
    "        #Creating the folder if it does not exist already\n",
    "        if not os.path.exists(newpath):\n",
    "            os.makedirs(newpath)"
   ]
  },
  {
   "cell_type": "markdown",
   "metadata": {},
   "source": [
    "### Have the Back-Analysis GRLWEAP OPILE Plotting files been placed in the Case folders?"
   ]
  },
  {
   "cell_type": "code",
   "execution_count": null,
   "metadata": {},
   "outputs": [],
   "source": [
    "#Files placed?\n",
    "\n",
    "# Giving 5 tries at typing it correctly\n",
    "for i in range(0,6):\n",
    "    In = input(\"Have you placed all the required Back Analysis Case GRLWEAP_OPILE_Plotting.xlsm files in each Case folder? (y/n)\")\n",
    "    if In == \"y\":\n",
    "        print(\"Nice 1.\")\n",
    "        break\n",
    "    elif In == \"n\":\n",
    "        raise NameError(\"Please place the required Back Analysis Case GRLWEAP_OPILE_Plotting.xlsm files in each Case folder and then Restart & Run kernel again.\")\n",
    "    else:\n",
    "        print(\"Please answer y or n\")\n",
    "    "
   ]
  },
  {
   "cell_type": "code",
   "execution_count": null,
   "metadata": {},
   "outputs": [],
   "source": [
    "# Make sure that all of the BA sheets have the same name and no of sheets in the files!\n",
    "\n",
    "# Getting list of the sheets in the worbook \n",
    "xls = xlrd.open_workbook(r'Case1\\\\GRLWEAP_OPILE_Plotting.xlsm', on_demand=True)\n",
    "sheets = xls.sheet_names()\n",
    "\n",
    "# Removing any sheets that are plots, summary or base and keeping ones with data to be used\n",
    "sheets = [names for names in sheets if \"Summary\" not in names]\n",
    "sheets = [names for names in sheets if \"Base\" not in names]\n",
    "sheets = [names for names in sheets if \"Plots\" not in names]\n",
    "\n",
    "\n",
    "#Creating the final storage location for all the cases results (New columns added later)\n",
    "results = pd.DataFrame(columns = ['AVG_Location_RMSE'], index = Ix)"
   ]
  },
  {
   "cell_type": "markdown",
   "metadata": {},
   "source": [
    "### Does the Best Estimate Line change between Cases?"
   ]
  },
  {
   "cell_type": "code",
   "execution_count": null,
   "metadata": {},
   "outputs": [],
   "source": [
    "# For Best Estimate (BE)\n",
    "#Insert BE result into the results frame. \n",
    "\n",
    "# Creating the list to store the prepped data\n",
    "ID_list = []\n",
    "BE_list =[]\n",
    "\n",
    "# Creating the list to store the location RMSE vals\n",
    "RMSE_BE_list = []\n",
    "\n",
    "\n",
    "#Files placed?\n",
    "\n",
    "# Giving 5 tries at typing it correctly\n",
    "for i in range(0,6):\n",
    "    BE_ch = input(\"Does the Best Estimate line change between cases? (y/n)\")\n",
    "    # IF BE changes, find average across all the Cases of BE\n",
    "    if BE_ch == \"y\":\n",
    "\n",
    "       \n",
    "        # iterating through the cases\n",
    "        for case in Ix:\n",
    "            # Skipping BE case (Case0)\n",
    "            if case == 'Case0':\n",
    "                continue \n",
    "\n",
    "            # Creating the list to store the prepped data\n",
    "            ID_list = []\n",
    "            BE_list = []\n",
    "\n",
    "\n",
    "            # opening the case plotting file and iterating through locations \n",
    "            for sheet in sheets:\n",
    "                fileloc =  case + '\\\\GRLWEAP_OPILE_Plotting.xlsm'\n",
    "                df1 = pd.read_excel(fileloc, sheet_name = sheet)\n",
    "\n",
    "\n",
    "                #Calling the prep functions\n",
    "                fullID = runfunc_ID(df1)\n",
    "                fullBE = runfunc_BE(df1)\n",
    "\n",
    "                #Appending the prepped data to the list\n",
    "                ID_list.append(fullID)\n",
    "                BE_list.append(fullBE)\n",
    "\n",
    "\n",
    "                # Taking the original columns from fullID and fullBE\n",
    "                x1_ID = fullID['SRD']\n",
    "                y1_ID = fullID['depth']\n",
    "\n",
    "                # Smoothing the ID by applying a rolling mean\n",
    "                x1mean = x1_ID.rolling(50, min_periods=1).mean()\n",
    "                y1mean = y1_ID\n",
    "\n",
    "\n",
    "                # Defining the smoothed frame for ID to be used for eval MSE\n",
    "                ID_0 = pd.DataFrame(columns = ['depth','SRD'])\n",
    "                ID_0['SRD'] = x1mean\n",
    "                ID_0['depth'] = y1mean\n",
    "\n",
    "                # Defining the BE frame to use\n",
    "                BE_0 = fullBE\n",
    "                \n",
    "                #Calling the RMSE function for the BE\n",
    "                MSE_BE, RMSE_BE = eval_error_BE(BE_0,ID_0)\n",
    "\n",
    "            #     print(MSE_BE)\n",
    "            #     print(RMSE_BE)\n",
    "\n",
    "                #Appending the RMSE for BE\n",
    "                RMSE_BE_list.append(RMSE_BE)\n",
    "\n",
    "                print(RMSE_BE_list)\n",
    "            del df1, fullID, fullBE, x1_ID, y1_ID, x1mean, y1mean, ID_0, BE_0\n",
    "        \n",
    "        #Appending the AVG RMSE for BE at end of case loop\n",
    "        results.iloc[0,0] = np.mean(RMSE_BE_list)  \n",
    "        \n",
    "        break\n",
    "        \n",
    "    # IF BE does not change use the GRLWEAP OPILE PLOTTING sheet from Case0    \n",
    "    elif BE_ch == \"n\":\n",
    "        # Looping through the sheets\n",
    "        for sheet in sheets:\n",
    "            df1 = pd.read_excel(r'Case0\\\\GRLWEAP_OPILE_Plotting.xlsm', sheet_name = sheet)\n",
    "\n",
    "           #Calling the prep functions\n",
    "            fullID = runfunc_ID(df1)\n",
    "            fullBE = runfunc_BE(df1)\n",
    "\n",
    "            #Appending the prepped data to the list\n",
    "            ID_list.append(fullID)\n",
    "            BE_list.append(fullBE)\n",
    "\n",
    "\n",
    "            # Taking the original columns from fullID and fullBE\n",
    "            x1_ID = fullID['SRD']\n",
    "            y1_ID = fullID['depth']\n",
    "\n",
    "            # Smoothing the ID by applying a rolling mean\n",
    "            x1mean = x1_ID.rolling(50, min_periods=1).mean()\n",
    "            y1mean = y1_ID\n",
    "\n",
    "\n",
    "\n",
    "            # Defining the smoothed frame for ID to be used for eval MSE\n",
    "            ID_0 = pd.DataFrame(columns = ['depth','SRD'])\n",
    "            ID_0['SRD'] = x1mean\n",
    "            ID_0['depth'] = y1mean\n",
    "\n",
    "            # Defining the BE frame to use\n",
    "            BE_0 = fullBE\n",
    "\n",
    "            #Calling the RMSE function for the BE\n",
    "            MSE_BE, RMSE_BE = eval_error_BE(BE_0,ID_0)\n",
    "\n",
    "        #     print(MSE_BE)\n",
    "        #     print(RMSE_BE)\n",
    "            RMSE_BE_list.append(RMSE_BE)\n",
    "\n",
    "        #Appending the AVG RMSE for BE at end of loop\n",
    "        results.iloc[0,0] = np.mean(RMSE_BE_list) \n",
    "        break\n",
    "    \n",
    "    else:\n",
    "        print(\"Please answer y or n\")\n",
    "\n"
   ]
  },
  {
   "cell_type": "code",
   "execution_count": null,
   "metadata": {},
   "outputs": [],
   "source": [
    "# For Backanalysis\n",
    "# Defining the case number\n",
    "k = 1\n",
    "\n",
    "# iterating through the cases\n",
    "for case in Ix:\n",
    "    # Skipping BE case (Case0)\n",
    "    if case == 'Case0':\n",
    "        continue \n",
    "        \n",
    "    # Creating the list to store the prepped data\n",
    "    ID_list = []\n",
    "    BA_list = []\n",
    "\n",
    "    # Creating the list to store the location RMSE vals\n",
    "    RMSE_BA_list = []\n",
    "    \n",
    "    # opening the case plotting file and iterating through locations \n",
    "    for sheet in sheets:\n",
    "        fileloc =  case + '\\\\GRLWEAP_OPILE_Plotting.xlsm'\n",
    "        df1 = pd.read_excel(fileloc, sheet_name = sheet)\n",
    "\n",
    "\n",
    "        #Calling the prep functions\n",
    "        fullID = runfunc_ID(df1)\n",
    "        fullBA = runfunc_BA(df1)\n",
    "\n",
    "        #Appending the prepped data to the list\n",
    "        ID_list.append(fullID)\n",
    "        BA_list.append(fullBA)\n",
    "\n",
    "\n",
    "        # Taking the original columns from fullID and fullBA\n",
    "        x1_ID = fullID['SRD']\n",
    "        y1_ID = fullID['depth']\n",
    "\n",
    "\n",
    "        # Smoothing the ID by applying a rolling mean\n",
    "        x1mean = x1_ID.rolling(50, min_periods=1).mean()\n",
    "        y1mean = y1_ID\n",
    "\n",
    "\n",
    "\n",
    "        # Defining the smoothed frame for ID to be used for eval MSE\n",
    "        ID_0 = pd.DataFrame(columns = ['depth','SRD'])\n",
    "        ID_0['SRD'] = x1mean\n",
    "        ID_0['depth'] = y1mean\n",
    "\n",
    "        # Defining the BA frame to use\n",
    "        BA_0 = fullBA\n",
    "\n",
    "        #Calling the RMSE function for the BA\n",
    "        MSE_BA, RMSE_BA = eval_error_BA(BA_0,ID_0)\n",
    "\n",
    "    #     print(MSE_BA)\n",
    "    #     print(RMSE_BA)\n",
    "\n",
    "        #Appending the RMSE for BA\n",
    "        RMSE_BA_list.append(RMSE_BA)\n",
    "\n",
    "    #Appending the AVG RMSE for BA at end of sheet loop\n",
    "    results.iloc[k,0] = np.mean(RMSE_BA_list) \n",
    "    del df1, fullID, fullBA, x1_ID, y1_ID, x1mean, y1mean, ID_0, BA_0\n",
    "    k+=1"
   ]
  },
  {
   "cell_type": "code",
   "execution_count": null,
   "metadata": {},
   "outputs": [],
   "source": [
    "# Changing the first column to indicate that it is for BE\n",
    "results = results.rename(index={'Case0': 'BE'})"
   ]
  },
  {
   "cell_type": "code",
   "execution_count": null,
   "metadata": {},
   "outputs": [],
   "source": [
    "print(\"These are your results per case:\")\n",
    "results"
   ]
  },
  {
   "cell_type": "code",
   "execution_count": null,
   "metadata": {},
   "outputs": [],
   "source": [
    "#Saving the results to the system\n",
    "results.to_excel('Case_Results.xlsx')"
   ]
  },
  {
   "cell_type": "markdown",
   "metadata": {},
   "source": [
    "### The Results have been saved to your local system as Case_Results excel file."
   ]
  }
 ],
 "metadata": {
  "kernelspec": {
   "display_name": "Python 3",
   "language": "python",
   "name": "python3"
  },
  "language_info": {
   "codemirror_mode": {
    "name": "ipython",
    "version": 3
   },
   "file_extension": ".py",
   "mimetype": "text/x-python",
   "name": "python",
   "nbconvert_exporter": "python",
   "pygments_lexer": "ipython3",
   "version": "3.7.3"
  }
 },
 "nbformat": 4,
 "nbformat_minor": 2
}
