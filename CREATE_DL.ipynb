{
 "cells": [
  {
   "cell_type": "markdown",
   "metadata": {},
   "source": [
    "### Step 1) Find Mean Rf for Each Soil Type (Marine Mud, Holocene Clay/Silt, Glacial Till Clay/Silt (Type A), Glacial Till Clay/Silt (Type B))."
   ]
  },
  {
   "cell_type": "code",
   "execution_count": null,
   "metadata": {},
   "outputs": [],
   "source": [
    "import pandas as pd\n",
    "import numpy as np\n",
    "import os\n",
    "import glob\n",
    "import xlrd"
   ]
  },
  {
   "cell_type": "code",
   "execution_count": null,
   "metadata": {},
   "outputs": [],
   "source": [
    "# Getting Sheet Names\n",
    "xls = xlrd.open_workbook(r'Step_1\\GEOTEC-DATA.xlsm', on_demand=True)\n",
    "sheets = xls.sheet_names()\n",
    "\n",
    "# Removing any sheets that are plots, summary or base and keeping others\n",
    "sheets = [names for names in sheets if \"Project\" not in names]\n",
    "sheets = [names for names in sheets if \"base\" not in names]\n",
    "sheets = [names for names in sheets if \"soil\" not in names]\n",
    "\n",
    "# sheets"
   ]
  },
  {
   "cell_type": "code",
   "execution_count": null,
   "metadata": {},
   "outputs": [],
   "source": [
    "# Putting all the csv's into one HUUGE DATAFRAME\n",
    "df0 = pd.DataFrame(columns = ['location', 'description', 'GEOL_STAT', 'top', 'bottom',\n",
    "       'layer_thickness', 'SOIL', 'stratigraphy', 'perc5.0_qt', 'avg_qt',\n",
    "       'perc50.0_qt', 'perc95.0_qt', 'perc5.0_fs', 'avg_fs', 'perc50.0_fs',\n",
    "       'perc95.0_fs', 'avg_su_LB', 'avg_su_BE', 'avg_su_UB', 'avg_phi_eff_LB',\n",
    "       'avg_phi_eff_BE', 'avg_phi_eff_UB'])\n",
    "\n",
    "\n",
    "for i in glob.glob('Step_1\\Input\\*.csv'):\n",
    "#     print(i)\n",
    "    # Getting the csv as a dataframe     \n",
    "    dfi = pd.read_csv(i)\n",
    "    # Appending the dfi to the df0 and assigning as new df0\n",
    "    df0 = df0.append(dfi)\n",
    "    \n",
    "df0.head()"
   ]
  },
  {
   "cell_type": "code",
   "execution_count": null,
   "metadata": {},
   "outputs": [],
   "source": [
    "# Creating Rf Column\n",
    "try:\n",
    "    df0.insert(0,'Rf',np.nan)\n",
    "except ValueError:\n",
    "    print('Column already there')\n",
    "df0.head()"
   ]
  },
  {
   "cell_type": "code",
   "execution_count": null,
   "metadata": {},
   "outputs": [],
   "source": [
    "# Rf = fs/qt\n",
    "df0['Rf'] = df0['perc50.0_fs'].divide(df0['perc50.0_qt'])\n",
    "df0.head()"
   ]
  },
  {
   "cell_type": "code",
   "execution_count": null,
   "metadata": {},
   "outputs": [],
   "source": [
    "# Making the average Table for the 4 Soil Types that we need\n",
    "means = pd.DataFrame(columns = ['description', 'mean_Rf', 'Nk'])\n",
    "# appending three empty rows\n",
    "means = means.append(pd.DataFrame([[np.nan] * len(means.columns)], columns=means.columns))\n",
    "means = means.append(pd.DataFrame([[np.nan] * len(means.columns)], columns=means.columns))\n",
    "means = means.append(pd.DataFrame([[np.nan] * len(means.columns)], columns=means.columns))\n",
    "means = means.append(pd.DataFrame([[np.nan] * len(means.columns)], columns=means.columns)).reset_index(drop = True)\n",
    "means"
   ]
  },
  {
   "cell_type": "code",
   "execution_count": null,
   "metadata": {},
   "outputs": [],
   "source": [
    "# Marine Mud\n",
    "dfmm = df0.loc[df0['description'] == '26.0_Marine Mud'].dropna(subset = ['Rf'])\n",
    "# finding the mean\n",
    "rf_mm = dfmm['Rf'].mean()\n",
    "# placing in the results table\n",
    "means['description'][0] = '26.0_Marine Mud'\n",
    "means['mean_Rf'][0] = rf_mm\n",
    "means"
   ]
  },
  {
   "cell_type": "code",
   "execution_count": null,
   "metadata": {},
   "outputs": [],
   "source": [
    "# Holocene Clay/Silt\n",
    "dfhcs = df0.loc[df0['description'] == '27.0_Holocene Clay/Silt'].dropna(subset = ['Rf'])\n",
    "# finding the mean\n",
    "rf_hcs = dfhcs['Rf'].mean()\n",
    "# placing in the results table\n",
    "means['description'][1] = '27.0_Holocene Clay/Silt'\n",
    "means['mean_Rf'][1] = rf_hcs\n",
    "means"
   ]
  },
  {
   "cell_type": "code",
   "execution_count": null,
   "metadata": {},
   "outputs": [],
   "source": [
    "# Type A\n",
    "dfta = df0.loc[df0['description'] == '28.0_Glacial Till Clay/Silt (Type A)'].dropna(subset = ['Rf'])\n",
    "# finding the mean\n",
    "rf_ta = dfta['Rf'].mean()\n",
    "# placing in the results table\n",
    "means['description'][2] = '28.0_Glacial Till Clay/Silt (Type A)'\n",
    "means['mean_Rf'][2] = rf_ta\n",
    "means"
   ]
  },
  {
   "cell_type": "code",
   "execution_count": null,
   "metadata": {},
   "outputs": [],
   "source": [
    "# Type B\n",
    "dftb = df0.loc[df0['description'] == '29.0_Glacial Till Clay/Silt (Type B)'].dropna(subset = ['Rf'])\n",
    "# finding the mean\n",
    "rf_tb = dftb['Rf'].mean()\n",
    "# placing in the results table\n",
    "means['description'][3] = '29.0_Glacial Till Clay/Silt (Type B)'\n",
    "means['mean_Rf'][3] = rf_tb\n",
    "means"
   ]
  },
  {
   "cell_type": "code",
   "execution_count": null,
   "metadata": {},
   "outputs": [],
   "source": [
    "# Placing the NKT Coefficients into the table too! From 4.17 Technical Note\n",
    "means['Nk'][0] = 12.9\n",
    "means['Nk'][1] = 15.6\n",
    "means['Nk'][2] = 11.5\n",
    "means['Nk'][3] = 13.1\n",
    "\n",
    "means"
   ]
  },
  {
   "cell_type": "code",
   "execution_count": null,
   "metadata": {},
   "outputs": [],
   "source": [
    "# Saving as excel\n",
    "means.to_excel('Step_1/Output/mean_RF.xlsx')"
   ]
  },
  {
   "cell_type": "code",
   "execution_count": null,
   "metadata": {},
   "outputs": [],
   "source": []
  },
  {
   "cell_type": "code",
   "execution_count": null,
   "metadata": {},
   "outputs": [],
   "source": []
  },
  {
   "cell_type": "markdown",
   "metadata": {},
   "source": [
    "### Step 2) Parse tables of Geotechnical Expert report into excel. "
   ]
  },
  {
   "cell_type": "code",
   "execution_count": null,
   "metadata": {},
   "outputs": [],
   "source": [
    "# !pip install tabula-py"
   ]
  },
  {
   "cell_type": "code",
   "execution_count": null,
   "metadata": {},
   "outputs": [],
   "source": [
    "import pandas as pd\n",
    "import numpy as np \n",
    "import tabula\n",
    "import os\n",
    "import glob\n",
    "import xlrd"
   ]
  },
  {
   "cell_type": "code",
   "execution_count": null,
   "metadata": {},
   "outputs": [],
   "source": [
    "xls = xlrd.open_workbook(r'Step_2\\\\GEOTEC-DATA.xlsm', on_demand=True)\n",
    "sheets = xls.sheet_names()\n",
    "# Removing any sheets that are plots, summary or base and keeping others\n",
    "sheets = [names for names in sheets if \"Project\" not in names]\n",
    "sheets = [names for names in sheets if \"base\" not in names]\n",
    "sheets = [names for names in sheets if \"soil\" not in names]\n",
    "# sheets"
   ]
  },
  {
   "cell_type": "code",
   "execution_count": null,
   "metadata": {},
   "outputs": [],
   "source": [
    "cols = ['Layer', 'Depth From [m]', 'Depth To [m]', 'Soil Description',  \\\n",
    "                   'Soil Type', 'Soil group', 'Consistency', 'Density', 'Eff. Unit Weight [kN/m3] (LB)', \\\n",
    "                  'Eff. Unit Weight [kN/m3] (Char)', 'Eff. Unit Weight [kN/m3] (UB)', 'Eff. Friction Angle (LB)', \\\n",
    "                   'Eff. Friction Angle (Char)', 'Eff. Friction Angle (UB)','Eff. Cohesion [kPa] (LB)', \\\n",
    "                    'Eff. Cohesion [kPa] (Char)','Eff. Cohesion [kPa] (UB)', 'Delta peak (LB)',\\\n",
    "                    'Delta peak (Char)', 'Delta peak (UB)', 'Undr. Shear Strength [kPa] (LB)', \\\n",
    "                    'Undr. Shear Strength [kPa] (Char)', 'Undr. Shear Strength [kPa] (UB)', \\\n",
    "                    'UCS [kPa] (LB)','UCS [kPa] (Char)','UCS [kPa] (UB)']\n",
    "\n",
    "\n",
    "for i in range(82,124):\n",
    "    \n",
    "#     reading\n",
    "    df = tabula.read_pdf('Step_2\\\\Input\\\\EAG-SCH-ENG-REP-GUD-000015 Rev 03 Main Soil and Foundation Expertise Report.pdf', \\\n",
    "                         pages = i, lattice = True)\n",
    "    \n",
    "#     getting first table and renaming cols\n",
    "    data = df[0]\n",
    "    data.columns = cols\n",
    "    # Removing the hyphens     \n",
    "    dash = data['UCS [kPa] (LB)'].iloc[0]\n",
    "    data = data.replace(dash, np.nan)\n",
    "    data.to_excel(f'Step_2\\\\Output\\\\{sheets[i-82]}_table.xlsx')\n",
    "\n",
    "\n",
    "for i in range(126,134):\n",
    "    \n",
    "#     reading\n",
    "    df = tabula.read_pdf('Step_2\\\\Input\\\\EAG-SCH-ENG-REP-GUD-000015 Rev 03 Main Soil and Foundation Expertise Report.pdf', \\\n",
    "                         pages = i, lattice = True)\n",
    "    \n",
    "#     getting first table and renaming cols\n",
    "    data = df[0]\n",
    "    data.columns = cols\n",
    "    # Removing the hyphens     \n",
    "    dash = data['UCS [kPa] (LB)'].iloc[0]\n",
    "    data = data.replace(dash, np.nan)\n",
    "    data.to_excel(f'Step_2\\\\Output\\\\{sheets[i-84]}_table.xlsx')\n"
   ]
  },
  {
   "cell_type": "code",
   "execution_count": null,
   "metadata": {},
   "outputs": [],
   "source": []
  },
  {
   "cell_type": "code",
   "execution_count": null,
   "metadata": {},
   "outputs": [],
   "source": []
  },
  {
   "cell_type": "markdown",
   "metadata": {},
   "source": [
    "### Step 3) \n",
    "#### Find values from PDF cu, gamma, for LB, UB. Calculate for BE and UBk. \n",
    "#### Find the overburden pressure for LB, BE, UBk, UB."
   ]
  },
  {
   "cell_type": "code",
   "execution_count": null,
   "metadata": {},
   "outputs": [],
   "source": [
    "import pandas as pd\n",
    "import numpy as np \n",
    "import glob\n",
    "import os\n",
    "import xlrd\n",
    "import shutil"
   ]
  },
  {
   "cell_type": "code",
   "execution_count": null,
   "metadata": {},
   "outputs": [],
   "source": [
    "# Copying Across the output from Step 2 to Input of step 3\n",
    "target = 'Step_3\\\\Input'\n",
    "for i in glob.glob('Step_2\\\\Output\\\\*_table.xlsx'):\n",
    "    source = i\n",
    "    # Copying across\n",
    "    shutil.copy(source, target)\n",
    "    print(f'{i[-15:-11]} Copied across')"
   ]
  },
  {
   "cell_type": "code",
   "execution_count": null,
   "metadata": {},
   "outputs": [],
   "source": [
    "# Getting Location names\n",
    "xls = xlrd.open_workbook(r'Step_3\\\\GEOTEC-DATA.xlsm', on_demand=True)\n",
    "sheets = xls.sheet_names()\n",
    "# Removing any sheets that are plots, summary or base and keeping others\n",
    "sheets = [names for names in sheets if \"Project\" not in names]\n",
    "sheets = [names for names in sheets if \"soil\" not in names]\n",
    "sheets = [names for names in sheets if \"base\" not in names]\n",
    "# sheets"
   ]
  },
  {
   "cell_type": "code",
   "execution_count": null,
   "metadata": {},
   "outputs": [],
   "source": [
    "# TRYING IN BULK\n",
    "# Getting the Code from a created Soil_Code Excel\n",
    "Soil_Codes = pd.read_excel(r'Step_3\\\\Input\\\\Soil_Codes.xlsx')\n",
    "Soil_Codes.columns = ['Soil Code', 'Soil Type', 'Density / Consistency', 'Desc']\n",
    "\n",
    "for sheet in sheets:\n",
    "    # Reading the pdf table\n",
    "    pdf_t = pd.read_excel(f'Step_3\\\\Input\\\\{sheet}_table.xlsx').iloc[:,1:]\n",
    "    \n",
    "    #1\n",
    "    # Creating the work frame to store final data\n",
    "    c_first = ['Code', 'Description', 'Depth from [m]', 'Depth to [m]']\n",
    "    c_add = ['cu from [kPa]', 'cu to [kPa]', \"Gamma p [kN/m3]\", \"s'v0 from [kN/m2]\", \"s'v0 to [kN/m2]\",\\\n",
    "                    'qc [MPa]', 'fs [kPa]']\n",
    "\n",
    "    # Adding the LB, BE, UB_k and UB to the tiles that change \n",
    "    c_second = []\n",
    "    for item in c_add:\n",
    "        c_second.append(f'{item} (LB)')\n",
    "        c_second.append(f'{item} (BE_k)')\n",
    "        c_second.append(f'{item} (BE)')\n",
    "        c_second.append(f'{item} (UB_k)')\n",
    "        c_second.append(f'{item} (UB)')\n",
    "\n",
    "    c_first.extend(c_second)\n",
    "    c_titles = c_first\n",
    "\n",
    "    # Creating the columns and rows and adding titles\n",
    "    cnames = list(range(0, len(c_titles)))\n",
    "    rnames = list(range(0,50))\n",
    "    work = pd.DataFrame(np.nan, index=rnames, columns = c_titles)\n",
    "    \n",
    "    #2\n",
    "    # Getting the Description\n",
    "    work['Description'] = pdf_t['Layer']\n",
    "    \n",
    "    #3\n",
    "    # Getting the Depth from and to\n",
    "    work['Depth from [m]'] = pdf_t['Depth From [m]']\n",
    "    work['Depth to [m]'] = pdf_t['Depth To [m]']\n",
    "    # Droppin nan here\n",
    "    work = work.dropna(how = 'all')\n",
    "    \n",
    "    \n",
    "    #4\n",
    "    # Creating a list of Soil Codes to run through\n",
    "    for i in range(0,Soil_Codes.shape[0]):\n",
    "        work.loc[work['Description'] == Soil_Codes['Desc'][i], 'Code'] = Soil_Codes['Soil Code'][i]\n",
    "\n",
    "    #5\n",
    "    # Getting the cu from LB, BE_k, UB\n",
    "    # LB\n",
    "    work['cu from [kPa] (LB)'] = pdf_t['Undr. Shear Strength [kPa] (LB)']\n",
    "    work['cu to [kPa] (LB)'] = work['cu from [kPa] (LB)']\n",
    "\n",
    "    # BE_k\n",
    "    work['cu from [kPa] (BE_k)'] = pdf_t['Undr. Shear Strength [kPa] (Char)']\n",
    "    work['cu to [kPa] (BE_k)'] = work['cu from [kPa] (BE_k)']\n",
    "\n",
    "    # # UB\n",
    "    work['cu from [kPa] (UB)'] = pdf_t['Undr. Shear Strength [kPa] (UB)']\n",
    "    work['cu to [kPa] (UB)'] = work['cu from [kPa] (UB)']\n",
    "\n",
    "    # For case of the Holocene Clay/Silt\n",
    "    #  LB, UB = (2.30z, 2.80z, 4.25z)\n",
    "    # Replacing LB and UB with their actual values\n",
    "    # Depth from\n",
    "    # LB\n",
    "    work.loc[work['Description'] == 'Holocene Clay/Silt', 'cu from [kPa] (LB)'] = \\\n",
    "                                    (2.30 * (work.loc[work['Description'] == 'Holocene Clay/Silt', 'Depth from [m]']).astype('float'))  \n",
    "    work.loc[work['Description'] == 'Holocene Clay/Silt', 'cu to [kPa] (LB)'] = \\\n",
    "                                    (2.30 * (work.loc[work['Description'] == 'Holocene Clay/Silt', 'Depth to [m]']).astype('float'))  \n",
    "\n",
    "    # BE_k\n",
    "    work.loc[work['Description'] == 'Holocene Clay/Silt', 'cu from [kPa] (BE_k)'] = \\\n",
    "                                    (2.80 * (work.loc[work['Description'] == 'Holocene Clay/Silt', 'Depth from [m]']).astype('float'))  \n",
    "    work.loc[work['Description'] == 'Holocene Clay/Silt', 'cu to [kPa] (BE_k)'] = \\\n",
    "                                    (2.80 * (work.loc[work['Description'] == 'Holocene Clay/Silt', 'Depth to [m]']).astype('float'))\n",
    "\n",
    "    # UB\n",
    "    work.loc[work['Description'] == 'Holocene Clay/Silt', 'cu from [kPa] (UB)'] = \\\n",
    "                                    (4.25 * (work.loc[work['Description'] == 'Holocene Clay/Silt', 'Depth from [m]']).astype('float'))\n",
    "    work.loc[work['Description'] == 'Holocene Clay/Silt', 'cu to [kPa] (UB)'] = \\\n",
    "                                    (4.25 * (work.loc[work['Description'] == 'Holocene Clay/Silt', 'Depth to [m]']).astype('float'))\n",
    "\n",
    "    # Filling BE\n",
    "    # BE is halfway between UB and LB\n",
    "\n",
    "    work['cu from [kPa] (BE)'] = (work['cu from [kPa] (LB)'].astype('float') + work['cu from [kPa] (UB)'].astype('float')) / 2\n",
    "\n",
    "    work['cu to [kPa] (BE)'] = (work['cu to [kPa] (LB)'].astype('float') + work['cu to [kPa] (UB)'].astype('float')) / 2\n",
    "\n",
    "\n",
    "    # Finding UB_k\n",
    "    # Check Calc Note\n",
    "    # cu_UB_k = 2cu_BE - cu_BE_k\n",
    "    # cu_BE_k defined for Holocene and for others\n",
    "\n",
    "    # Depth from\n",
    "    \n",
    "    work['cu from [kPa] (UB_k)'] = 2 * (work['cu from [kPa] (BE)'].astype('float')) \\\n",
    "                                        - work['cu from [kPa] (BE_k)'].astype('float')\n",
    "\n",
    "    # Depth to\n",
    "    work['cu to [kPa] (UB_k)'] = 2 * (work['cu to [kPa] (BE)'].astype('float')) \\\n",
    "                                        - work['cu to [kPa] (BE_k)'].astype('float')\n",
    "   \n",
    "    \n",
    "    \n",
    "    #5\n",
    "    # Getting the Gamma p from LB, BE_k, UB\n",
    "    # LB \n",
    "    work['Gamma p [kN/m3] (LB)'] = pdf_t['Eff. Unit Weight [kN/m3] (LB)']\n",
    "\n",
    "    # BE_k \n",
    "    work['Gamma p [kN/m3] (BE_k)'] = pdf_t['Eff. Unit Weight [kN/m3] (Char)']\n",
    "\n",
    "    # UB\n",
    "    work['Gamma p [kN/m3] (UB)'] = pdf_t['Eff. Unit Weight [kN/m3] (UB)']\n",
    "\n",
    "    # Filling BE\n",
    "    work['Gamma p [kN/m3] (BE)'] = (work['Gamma p [kN/m3] (LB)'].astype('float') + \\\n",
    "                                    work['Gamma p [kN/m3] (UB)'].astype('float')) / 2\n",
    "\n",
    "    # Finding UB_k\n",
    "    # Check Calc Note\n",
    "    # Gamma p_UB_k = 2Gamma p_BE - Gamma p_BE_k\n",
    "    work['Gamma p [kN/m3] (UB_k)'] = 2*(work['Gamma p [kN/m3] (BE)'].astype('float')) - \\\n",
    "                                work['Gamma p [kN/m3] (BE_k)'].astype('float')\n",
    "    \n",
    "    \n",
    "    #6\n",
    "    # Getting the s'v0 from LB, BE_k, UB\n",
    "    # FOR LB\n",
    "    # LB\n",
    "\n",
    "    # first row\n",
    "    # LB\n",
    "    work[\"s'v0 from [kN/m2] (LB)\"].iloc[0] =  0\n",
    "    work[\"s'v0 to [kN/m2] (LB)\"].iloc[0] =  work[\"Gamma p [kN/m3] (LB)\"].iloc[0].astype('float') \\\n",
    "                                            * work['Depth to [m]'].iloc[0].astype('float')\n",
    "\n",
    "    # first row\n",
    "    # BE_k\n",
    "    work[\"s'v0 from [kN/m2] (BE_k)\"].iloc[0] = 0\n",
    "    work[\"s'v0 to [kN/m2] (BE_k)\"].iloc[0] =  work[\"Gamma p [kN/m3] (BE_k)\"].iloc[0].astype('float') \\\n",
    "                                            * work['Depth to [m]'].iloc[0].astype('float')\n",
    "\n",
    "    # UB\n",
    "    # first row\n",
    "    work[\"s'v0 from [kN/m2] (UB)\"].iloc[0] =  0\n",
    "    work[\"s'v0 to [kN/m2] (UB)\"].iloc[0] =  work[\"Gamma p [kN/m3] (UB)\"].iloc[0].astype('float') \\\n",
    "                                            * work['Depth to [m]'].iloc[0].astype('float')\n",
    "\n",
    "\n",
    "    for i in range(1,work.shape[0]):\n",
    "        # LB     \n",
    "        work[\"s'v0 from [kN/m2] (LB)\"].iloc[i] = work[\"s'v0 to [kN/m2] (LB)\"].iloc[i-1].astype('float')\n",
    "        work[\"s'v0 to [kN/m2] (LB)\"].iloc[i] = work[\"s'v0 from [kN/m2] (LB)\"].iloc[i].astype('float') + \\\n",
    "                                                work[\"Gamma p [kN/m3] (LB)\"].iloc[i].astype('float') \\\n",
    "                                                * (work['Depth to [m]'].iloc[i].astype('float') - \\\n",
    "                                                   work['Depth to [m]'].iloc[i-1].astype('float'))\n",
    "\n",
    "        # BE_k     \n",
    "        work[\"s'v0 from [kN/m2] (BE_k)\"].iloc[i] = work[\"s'v0 to [kN/m2] (BE_k)\"].iloc[i-1].astype('float')\n",
    "        work[\"s'v0 to [kN/m2] (BE_k)\"].iloc[i] = work[\"s'v0 from [kN/m2] (BE_k)\"].iloc[i].astype('float') + \\\n",
    "                                                work[\"Gamma p [kN/m3] (BE_k)\"].iloc[i].astype('float') \\\n",
    "                                                * (work['Depth to [m]'].iloc[i].astype('float') - \\\n",
    "                                                   work['Depth to [m]'].iloc[i-1].astype('float'))\n",
    "\n",
    "        # UB    \n",
    "        work[\"s'v0 from [kN/m2] (UB)\"].iloc[i] = work[\"s'v0 to [kN/m2] (UB)\"].iloc[i-1].astype('float')\n",
    "        work[\"s'v0 to [kN/m2] (UB)\"].iloc[i] = work[\"s'v0 from [kN/m2] (UB)\"].iloc[i].astype('float') + \\\n",
    "                                                work[\"Gamma p [kN/m3] (UB)\"].iloc[i].astype('float') \\\n",
    "                                                * (work['Depth to [m]'].iloc[i].astype('float') - \\\n",
    "                                                   work['Depth to [m]'].iloc[i-1].astype('float'))\n",
    "\n",
    "        \n",
    "    # BE\n",
    "    work[\"s'v0 from [kN/m2] (BE)\"] = (work[\"s'v0 from [kN/m2] (LB)\"].astype('float') \\\n",
    "                                      + work[\"s'v0 from [kN/m2] (UB)\"].astype('float')) / 2\n",
    "\n",
    "    work[\"s'v0 to [kN/m2] (BE)\"] = (work[\"s'v0 to [kN/m2] (LB)\"].astype('float') \\\n",
    "                                      + work[\"s'v0 to [kN/m2] (UB)\"].astype('float')) / 2\n",
    "\n",
    "    # Finding UB_k\n",
    "    # Check Calc Note\n",
    "    # s'v0_UB_k = 2s'v0 _BE - s'v0_BE_k\n",
    "    work[\"s'v0 from [kN/m2] (UB_k)\"] = (2 * work[\"s'v0 from [kN/m2] (BE)\"].astype('float')) \\\n",
    "                                    - work[\"s'v0 from [kN/m2] (BE_k)\"].astype('float')\n",
    "\n",
    "    work[\"s'v0 to [kN/m2] (UB_k)\"] = (2 * work[\"s'v0 to [kN/m2] (BE)\"].astype('float')) \\\n",
    "                                    - work[\"s'v0 to [kN/m2] (BE_k)\"].astype('float')\n",
    "    # Saving     \n",
    "    work.to_excel(f\"Step_3\\\\Output\\\\{sheet}_sigma_Filled.xlsx\", index = False)\n",
    "    \n",
    "    print(f'{sheet} processed')\n",
    "    "
   ]
  },
  {
   "cell_type": "code",
   "execution_count": null,
   "metadata": {},
   "outputs": [],
   "source": []
  },
  {
   "cell_type": "code",
   "execution_count": null,
   "metadata": {},
   "outputs": [],
   "source": []
  },
  {
   "cell_type": "code",
   "execution_count": null,
   "metadata": {},
   "outputs": [],
   "source": []
  },
  {
   "cell_type": "code",
   "execution_count": null,
   "metadata": {},
   "outputs": [],
   "source": []
  },
  {
   "cell_type": "markdown",
   "metadata": {},
   "source": []
  },
  {
   "cell_type": "code",
   "execution_count": null,
   "metadata": {},
   "outputs": [],
   "source": []
  },
  {
   "cell_type": "markdown",
   "metadata": {},
   "source": [
    "Step 4) NKT: Find the qc and fs for LB, BE, UB, UBk using:\n",
    "\tq_c=s_u⋅N_k+σ_v0\n",
    "\tFind fs by *Rf as found in Step i"
   ]
  },
  {
   "cell_type": "code",
   "execution_count": null,
   "metadata": {},
   "outputs": [],
   "source": [
    "# Copying Across the output from Step 1 to Input of Step4 \n",
    "target = 'Step_4\\\\Input'\n",
    "source = 'Step_1\\\\Output\\\\mean_RF.xlsx'\n",
    "\n",
    "# Copying Across \n",
    "shutil.copy(source, target)"
   ]
  },
  {
   "cell_type": "code",
   "execution_count": null,
   "metadata": {},
   "outputs": [],
   "source": [
    "# Reading the rf and nk values found previously\n",
    "rf_nk = pd.read_excel('Step_4/Input/mean_Rf.xlsx')\n",
    "rf_nk"
   ]
  },
  {
   "cell_type": "code",
   "execution_count": null,
   "metadata": {},
   "outputs": [],
   "source": [
    "# Copying Across the output from Step 3 to Input of step 4\n",
    "target = 'Step_4\\\\Input'\n",
    "for i in glob.glob('Step_3\\\\Output\\\\*_sigma_Filled.xlsx'):\n",
    "    source = i\n",
    "    # Copying across\n",
    "    shutil.copy(source, target)\n",
    "    print(f'{i[14:18]} Copied across')"
   ]
  },
  {
   "cell_type": "code",
   "execution_count": null,
   "metadata": {},
   "outputs": [],
   "source": [
    "# Getting Location names\n",
    "xls = xlrd.open_workbook(r'Step_4\\\\GEOTEC-DATA.xlsm', on_demand=True)\n",
    "sheets = xls.sheet_names()\n",
    "# Removing any sheets that are plots, summary or base and keeping others\n",
    "sheets = [names for names in sheets if \"Project\" not in names]\n",
    "sheets = [names for names in sheets if \"soil\" not in names]\n",
    "sheets = [names for names in sheets if \"base\" not in names]\n",
    "# sheets"
   ]
  },
  {
   "cell_type": "code",
   "execution_count": null,
   "metadata": {},
   "outputs": [],
   "source": [
    "for sheet in sheets:\n",
    "    \n",
    "    # Opening the loc specific su sheet\n",
    "    NKTi = pd.read_excel(f'Step_4/Input/{sheet}_sigma_Filled.xlsx')\n",
    "    \n",
    "    # Calculating the qc and fs for soilcodes 26 - 29\n",
    "    soilcodes = [x for x in range(26,30)]\n",
    "    \n",
    "    for j, x in enumerate(soilcodes):\n",
    "        \n",
    "        rf = rf_nk['mean_Rf'][j]\n",
    "        nk = rf_nk['Nk'][j]\n",
    "\n",
    "        # Taking it as avg s'v0 \n",
    "        # cu doesnt change so just take depth to\n",
    "        # qc = cu*Nk + s'v0avg\n",
    "        # LB\n",
    "        NKTi.loc[NKTi['Code'] == x, 'qc [MPa] (LB)'] = ((NKTi.loc[NKTi['Code'] == x, 'cu to [kPa] (LB)'].astype('float') * nk) + \\\n",
    "                                                        ((NKTi.loc[NKTi['Code'] == x, \"s'v0 from [kN/m2] (LB)\"].astype('float') + \\\n",
    "                                                        NKTi.loc[NKTi['Code'] == x, \"s'v0 to [kN/m2] (LB)\"])) / 2) / 1000\n",
    "\n",
    "        # BE_k\n",
    "        NKTi.loc[NKTi['Code'] == x, 'qc [MPa] (BE_k)'] = ((NKTi.loc[NKTi['Code'] == x, 'cu to [kPa] (BE_k)'].astype('float') * nk) + \\\n",
    "                                                        ((NKTi.loc[NKTi['Code'] == x, \"s'v0 from [kN/m2] (BE_k)\"].astype('float') + \\\n",
    "                                                        NKTi.loc[NKTi['Code'] == x, \"s'v0 to [kN/m2] (BE_k)\"])) / 2) / 1000\n",
    "\n",
    "        # UB\n",
    "        NKTi.loc[NKTi['Code'] == x, 'qc [MPa] (UB)'] = ((NKTi.loc[NKTi['Code'] == x, 'cu to [kPa] (UB)'].astype('float') * nk) + \\\n",
    "                                                        ((NKTi.loc[NKTi['Code'] == x, \"s'v0 from [kN/m2] (UB)\"].astype('float') + \\\n",
    "                                                        NKTi.loc[NKTi['Code'] == x, \"s'v0 to [kN/m2] (UB)\"])) / 2) / 1000\n",
    "\n",
    "        # BE\n",
    "        # BE is LB + UB / 2\n",
    "        NKTi.loc[NKTi['Code'] == x, 'qc [MPa] (BE)'] = (NKTi.loc[NKTi['Code'] == x, 'qc [MPa] (LB)'].astype('float') \\\n",
    "                                                        + NKTi.loc[NKTi['Code'] == x, 'qc [MPa] (UB)'].astype('float')) / 2\n",
    "\n",
    "        # Finding UB_k\n",
    "        # Check Calc Note\n",
    "        # qc_UB_k = 2qc _BE - qc_BE_k\n",
    "        NKTi.loc[NKTi['Code'] == x, 'qc [MPa] (UB_k)'] = 2*(NKTi.loc[NKTi['Code'] == x, 'qc [MPa] (BE)'].astype('float')) - \\\n",
    "                                                            NKTi.loc[NKTi['Code'] == x, 'qc [MPa] (BE_k)'].astype('float')\n",
    "\n",
    "\n",
    "        # fs = qc * Rf\n",
    "        #  Rf values are taken from all the available CPT for the particular soil type\n",
    "        # Going from MPa to kPa require * 1000\n",
    "        # LB\n",
    "        NKTi.loc[NKTi['Code'] == x, 'fs [kPa] (LB)'] = (NKTi.loc[NKTi['Code'] == x, 'qc [MPa] (LB)'] * rf * 1000)\n",
    "\n",
    "        # BE_k\n",
    "        NKTi.loc[NKTi['Code'] == x, 'fs [kPa] (BE_k)'] = (NKTi.loc[NKTi['Code'] == x, 'qc [MPa] (BE_k)'] * rf * 1000)\n",
    "\n",
    "        # UB\n",
    "        NKTi.loc[NKTi['Code'] == x, 'fs [kPa] (UB)'] = (NKTi.loc[NKTi['Code'] == x, 'qc [MPa] (UB)'] * rf * 1000)\n",
    "\n",
    "        # BE\n",
    "        # BE is LB + UB / 2\n",
    "        NKTi.loc[NKTi['Code'] == x, 'fs [kPa] (BE)'] = (NKTi.loc[NKTi['Code'] == x, 'fs [kPa] (LB)'] + \\\n",
    "                                                        NKTi.loc[NKTi['Code'] == x, 'fs [kPa] (UB)']) / 2\n",
    "\n",
    "\n",
    "        # Finding UB_k\n",
    "        # Check Calc Note\n",
    "        # qc_UB_k = 2qc _BE - qc_BE_k\n",
    "        NKTi.loc[NKTi['Code'] == x, 'fs [kPa] (UB_k)'] = 2*(NKTi.loc[NKTi['Code'] == x, 'fs [kPa] (BE)'].astype('float')) - \\\n",
    "                                                            NKTi.loc[NKTi['Code'] == x, 'fs [kPa] (BE_k)'].astype('float')\n",
    "        \n",
    "        print(NKTi.iloc[:,18:])\n",
    "        \n",
    "        # Saving as sheets\n",
    "        NKTi.to_excel(f'Step_4\\\\Output\\\\{sheet}_NKT_Filled.xlsx')"
   ]
  },
  {
   "cell_type": "code",
   "execution_count": null,
   "metadata": {},
   "outputs": [],
   "source": []
  },
  {
   "cell_type": "code",
   "execution_count": null,
   "metadata": {},
   "outputs": [],
   "source": []
  },
  {
   "cell_type": "markdown",
   "metadata": {},
   "source": [
    "Step 5) Fill Gaps in CPT with LB, BE, UB, UBk NKT results."
   ]
  },
  {
   "cell_type": "code",
   "execution_count": null,
   "metadata": {},
   "outputs": [],
   "source": []
  },
  {
   "cell_type": "markdown",
   "metadata": {},
   "source": [
    "Step 6) Graph 3 qc, fs and Rf side by side. Indicate CPT DOUBLE CHECK THAT IT IS FOR qc and not qt!. \n",
    "Indicate DL. Indicate NKT."
   ]
  },
  {
   "cell_type": "code",
   "execution_count": null,
   "metadata": {},
   "outputs": [],
   "source": []
  },
  {
   "cell_type": "markdown",
   "metadata": {},
   "source": [
    "Step 7) Back- Calculate the su values for the cohesive layers based on the field qc values and the NKT.\n",
    "\t  Add this to graph in Step vi. "
   ]
  },
  {
   "cell_type": "code",
   "execution_count": null,
   "metadata": {},
   "outputs": [],
   "source": []
  },
  {
   "cell_type": "markdown",
   "metadata": {},
   "source": [
    "Step 8) Using the macros bring across Step iv csv's into a final geotec data."
   ]
  },
  {
   "cell_type": "code",
   "execution_count": null,
   "metadata": {},
   "outputs": [],
   "source": []
  }
 ],
 "metadata": {
  "kernelspec": {
   "display_name": "Python 3",
   "language": "python",
   "name": "python3"
  },
  "language_info": {
   "codemirror_mode": {
    "name": "ipython",
    "version": 3
   },
   "file_extension": ".py",
   "mimetype": "text/x-python",
   "name": "python",
   "nbconvert_exporter": "python",
   "pygments_lexer": "ipython3",
   "version": "3.7.3"
  }
 },
 "nbformat": 4,
 "nbformat_minor": 2
}
